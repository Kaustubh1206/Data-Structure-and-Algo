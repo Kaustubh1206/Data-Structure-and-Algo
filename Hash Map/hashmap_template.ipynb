{
 "cells": [
  {
   "cell_type": "markdown",
   "id": "7f88f6ba",
   "metadata": {},
   "source": [
    "### ❓ Why to Use?\n",
    "\n",
    "Fast lookups in O(1) average time.\n",
    "\n",
    "Detect duplicates, count frequencies, map indices, etc.\n",
    "\n",
    "Core idea behind many string and array problems.\n",
    "\n",
    "### 📍 When to Use?\n",
    "\n",
    "When you need to count occurrences.\n",
    "\n",
    "When you need to check if an element exists quickly.\n",
    "\n",
    "When you need to map one thing to another (e.g., index, frequency, pairing).\n",
    "\n",
    "### 🧩 Keywords in Questions:\n",
    "\n",
    "“frequency” / “count”\n",
    "\n",
    "“how many times”\n",
    "\n",
    "“check if exists”\n",
    "\n",
    "“longest substring with…”\n",
    "\n",
    "“anagram”\n",
    "\n",
    "### 📦 Types of Problems:\n",
    "\n",
    "Frequency count\n",
    "\n",
    "Detect duplicates\n",
    "\n",
    "Anagram checking\n",
    "\n",
    "Mapping indices or prefix sums\n",
    "\n",
    "### ⏱️ Complexity:\n",
    "\n",
    "Time: O(n)\n",
    "\n",
    "Space: O(n) (extra hash map or set)"
   ]
  },
  {
   "cell_type": "code",
   "execution_count": 1,
   "id": "14fee67f",
   "metadata": {},
   "outputs": [
    {
     "data": {
      "text/plain": [
       "{1: 2, 2: 3, 3: 1, 4: 2}"
      ]
     },
     "execution_count": 1,
     "metadata": {},
     "output_type": "execute_result"
    }
   ],
   "source": [
    "def hashmap_pattern(arr):\n",
    "    freq = {} # Dictionary \n",
    "    for num in arr: # traverse through array \n",
    "        if num in freq: # check whether that elemnt is in that dict \n",
    "            freq[num] += 1 # if yes incremnet it \n",
    "        else:\n",
    "            freq[num] = 1 # if no create a a key value pair \n",
    "    return freq # return freq\n",
    "arr=[1,2,2,3,4,4,2,1]\n",
    "hashmap_pattern(arr)"
   ]
  },
  {
   "cell_type": "code",
   "execution_count": 2,
   "id": "36140cf3",
   "metadata": {},
   "outputs": [
    {
     "data": {
      "text/plain": [
       "True"
      ]
     },
     "execution_count": 2,
     "metadata": {},
     "output_type": "execute_result"
    }
   ],
   "source": [
    "def contains_duplicate(nums):\n",
    "    seen = set()\n",
    "    for num in nums:\n",
    "        if num in seen:\n",
    "            return True\n",
    "        seen.add(num)\n",
    "    return False\n",
    "arr=[1,2,2,3,4,4,2,1]\n",
    "contains_duplicate(arr)"
   ]
  },
  {
   "cell_type": "code",
   "execution_count": null,
   "id": "0ffb0b41",
   "metadata": {},
   "outputs": [],
   "source": []
  }
 ],
 "metadata": {
  "kernelspec": {
   "display_name": "base",
   "language": "python",
   "name": "python3"
  },
  "language_info": {
   "codemirror_mode": {
    "name": "ipython",
    "version": 3
   },
   "file_extension": ".py",
   "mimetype": "text/x-python",
   "name": "python",
   "nbconvert_exporter": "python",
   "pygments_lexer": "ipython3",
   "version": "3.11.7"
  }
 },
 "nbformat": 4,
 "nbformat_minor": 5
}
