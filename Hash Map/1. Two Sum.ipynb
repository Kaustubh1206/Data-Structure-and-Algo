{
 "cells": [
  {
   "cell_type": "markdown",
   "id": "8bbe2fcb",
   "metadata": {},
   "source": [
    "## 1. Two Sum\n",
    "Input: nums = [2,7,11,15],\n",
    " target = 9\n",
    " \n",
    "Output: [0,1]"
   ]
  },
  {
   "cell_type": "code",
   "execution_count": null,
   "id": "7c030976",
   "metadata": {},
   "outputs": [],
   "source": []
  },
  {
   "cell_type": "markdown",
   "id": "47504f37",
   "metadata": {},
   "source": []
  }
 ],
 "metadata": {
  "language_info": {
   "name": "python"
  }
 },
 "nbformat": 4,
 "nbformat_minor": 5
}
