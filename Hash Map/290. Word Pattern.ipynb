{
 "cells": [
  {
   "cell_type": "markdown",
   "id": "ab27203d",
   "metadata": {},
   "source": [
    "## 290. Word Pattern\n",
    "Input: pattern = \"abba\", s = \"dog cat cat dog\"\n",
    "\n",
    "Output: true"
   ]
  },
  {
   "cell_type": "code",
   "execution_count": 21,
   "id": "4c5b5f3b",
   "metadata": {},
   "outputs": [
    {
     "data": {
      "text/plain": [
       "False"
      ]
     },
     "execution_count": 21,
     "metadata": {},
     "output_type": "execute_result"
    }
   ],
   "source": [
    "# Using One dictionary and One set solution only\n",
    "pattern=\"abba\"\n",
    "s=\"dog cat cat fish\"\n",
    "def word_pattern(pattern,s):\n",
    "    words=s.split()\n",
    "\n",
    "    if len(pattern)!=len(words):\n",
    "        return False\n",
    "    mapping={}\n",
    "    used_words=set()\n",
    "\n",
    "    for char,word in zip(pattern,words): # (a,dog),(b,cat),(b,cat),(a,dog)\n",
    "        if char in mapping:\n",
    "            if mapping[char]!=word:\n",
    "                return False\n",
    "        else:\n",
    "            if word in used_words:\n",
    "                return False\n",
    "        mapping[char]=word\n",
    "        used_words.add(word)\n",
    "    return True\n",
    "    \n",
    "word_pattern(pattern,s)"
   ]
  },
  {
   "cell_type": "code",
   "execution_count": null,
   "id": "4891b1aa",
   "metadata": {},
   "outputs": [
    {
     "name": "stdout",
     "output_type": "stream",
     "text": [
      "False\n"
     ]
    }
   ],
   "source": [
    "# Using Reverse Mapping \n",
    "pattern=\"abba\"\n",
    "s=\"dog cat cat fish\"\n",
    "\n",
    "def word_pattern_1(pattern, s):\n",
    "    words = s.split()\n",
    "\n",
    "    if len(pattern) != len(words):\n",
    "        return False\n",
    "    \n",
    "    chartoword = {}\n",
    "    wordtochar = {}\n",
    "\n",
    "    # example pairs: (a,dog), (b,cat), (b,cat), (a,dog)\n",
    "    for char, word in zip(pattern, words):\n",
    "        # check if char already mapped but to a different word\n",
    "        if char in chartoword and chartoword[char] != word:\n",
    "            return False\n",
    "        \n",
    "        # check if word already mapped but to a different char\n",
    "        if word in wordtochar and wordtochar[word] != char:\n",
    "            return False\n",
    "        \n",
    "        # store the mappings\n",
    "        chartoword[char] = word\n",
    "        wordtochar[word] = char\n",
    "    \n",
    "    return True\n",
    "\n",
    "print(word_pattern_1(pattern, s))\n"
   ]
  },
  {
   "cell_type": "code",
   "execution_count": null,
   "id": "44653d93",
   "metadata": {},
   "outputs": [],
   "source": []
  }
 ],
 "metadata": {
  "kernelspec": {
   "display_name": "base",
   "language": "python",
   "name": "python3"
  },
  "language_info": {
   "codemirror_mode": {
    "name": "ipython",
    "version": 3
   },
   "file_extension": ".py",
   "mimetype": "text/x-python",
   "name": "python",
   "nbconvert_exporter": "python",
   "pygments_lexer": "ipython3",
   "version": "3.11.7"
  }
 },
 "nbformat": 4,
 "nbformat_minor": 5
}
