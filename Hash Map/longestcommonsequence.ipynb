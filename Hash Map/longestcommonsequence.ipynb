{
 "cells": [
  {
   "cell_type": "markdown",
   "id": "be0cec3c",
   "metadata": {},
   "source": [
    "## Longest Consecutive Sequence\n",
    "Input: nums = [2,20,4,10,3,4,5]\n",
    "\n",
    "Output: 4"
   ]
  },
  {
   "cell_type": "code",
   "execution_count": null,
   "id": "ffdaca7e",
   "metadata": {},
   "outputs": [
    {
     "data": {
      "text/plain": [
       "4"
      ]
     },
     "execution_count": 36,
     "metadata": {},
     "output_type": "execute_result"
    }
   ],
   "source": [
    "nums=[2,20,4,10,3,4,5]\n",
    "def lcs_sort(nums):\n",
    "    max_length=0\n",
    "    for i in range(len(nums)):\n",
    "        length =1\n",
    "        current=nums[i]\n",
    "        while (current +1) in nums:\n",
    "            current +=1\n",
    "            length +=1\n",
    "        \n",
    "        max_length=max(max_length,length)\n",
    "    return max_length\n",
    "lcs_sort(nums)\n"
   ]
  },
  {
   "cell_type": "code",
   "execution_count": null,
   "id": "ccffdefe",
   "metadata": {},
   "outputs": [],
   "source": []
  },
  {
   "cell_type": "code",
   "execution_count": null,
   "id": "b304d94b",
   "metadata": {},
   "outputs": [],
   "source": []
  }
 ],
 "metadata": {
  "kernelspec": {
   "display_name": "base",
   "language": "python",
   "name": "python3"
  },
  "language_info": {
   "codemirror_mode": {
    "name": "ipython",
    "version": 3
   },
   "file_extension": ".py",
   "mimetype": "text/x-python",
   "name": "python",
   "nbconvert_exporter": "python",
   "pygments_lexer": "ipython3",
   "version": "3.11.7"
  }
 },
 "nbformat": 4,
 "nbformat_minor": 5
}
