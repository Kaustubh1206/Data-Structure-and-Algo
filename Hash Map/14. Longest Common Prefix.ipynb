{
 "cells": [
  {
   "cell_type": "markdown",
   "id": "f6b039b5",
   "metadata": {},
   "source": [
    "## 14. Longest Common Prefix\n",
    "Input: strs = [\"flower\",\"flow\",\"flight\"]\n",
    "Output: \"fl\"\n"
   ]
  },
  {
   "cell_type": "code",
   "execution_count": 4,
   "id": "dbdf9a59",
   "metadata": {},
   "outputs": [
    {
     "data": {
      "text/plain": [
       "'fl'"
      ]
     },
     "execution_count": 4,
     "metadata": {},
     "output_type": "execute_result"
    }
   ],
   "source": [
    "def longestCommonPrefix(strs):\n",
    "    if not strs: # if our arrays is not a string\n",
    "        return \"\"\n",
    "    \n",
    "    first_str=strs[0] # base word\n",
    "    prefix=\"\" # empty string \n",
    "\n",
    "    for i in range(len(first_str)): # iterate through every char\n",
    "        char=first_str[i] # char intialize from 0th to ...\n",
    "\n",
    "        for word in strs[1:]: # compare the word with every other word \n",
    "            if i>=len(word) or word[i]!=char: # condition the i should be less then length of word and that alphabet should be same \n",
    "                # if condition doesnt satisidies return prefix\n",
    "                return prefix \n",
    "            \n",
    "        prefix += char # append char in prefix \n",
    "    return prefix # return prefix \n",
    "strs = [\"flower\",\"flow\",\"flight\"]\n",
    "longestCommonPrefix(strs)"
   ]
  },
  {
   "cell_type": "code",
   "execution_count": 7,
   "id": "e726e0f3",
   "metadata": {},
   "outputs": [
    {
     "data": {
      "text/plain": [
       "'fl'"
      ]
     },
     "execution_count": 7,
     "metadata": {},
     "output_type": "execute_result"
    }
   ],
   "source": [
    "# vertical scan \n",
    "def longestCommonPrefix_vertical(strs):\n",
    "    if not strs:\n",
    "        return \"\"\n",
    "    \n",
    "    for i in range(len(strs[0])):\n",
    "        char=strs[0][i]\n",
    "        for word in strs[1:]:\n",
    "            if i>=len(word) or word[i]!=char:\n",
    "                return strs[0][:i]\n",
    "            \n",
    "    return strs[0]\n",
    "longestCommonPrefix_vertical(strs)"
   ]
  },
  {
   "cell_type": "code",
   "execution_count": null,
   "id": "6043c1cf",
   "metadata": {},
   "outputs": [],
   "source": []
  }
 ],
 "metadata": {
  "kernelspec": {
   "display_name": "base",
   "language": "python",
   "name": "python3"
  },
  "language_info": {
   "codemirror_mode": {
    "name": "ipython",
    "version": 3
   },
   "file_extension": ".py",
   "mimetype": "text/x-python",
   "name": "python",
   "nbconvert_exporter": "python",
   "pygments_lexer": "ipython3",
   "version": "3.11.7"
  }
 },
 "nbformat": 4,
 "nbformat_minor": 5
}
