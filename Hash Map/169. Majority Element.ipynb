{
 "cells": [
  {
   "cell_type": "markdown",
   "id": "192da389",
   "metadata": {},
   "source": [
    "## 169. Majority Element\n",
    "Input: nums = [3,2,3]\n",
    "Output: 3\n"
   ]
  },
  {
   "cell_type": "code",
   "execution_count": null,
   "id": "54959efc",
   "metadata": {},
   "outputs": [
    {
     "data": {
      "text/plain": [
       "3"
      ]
     },
     "execution_count": 8,
     "metadata": {},
     "output_type": "execute_result"
    }
   ],
   "source": [
    "# Brute Force\n",
    "def Majority_Element_Brute(nums):\n",
    "    freq={}  # empty dictionary \n",
    "    majority=len(nums)//2 # \n",
    "    for num in nums:\n",
    "        if num in freq:\n",
    "            freq[num]+=1\n",
    "        else:\n",
    "            freq[num]=1\n",
    "\n",
    "    for key,value in freq.items():\n",
    "        if value>majority:\n",
    "            return key \n",
    "nums=[3,2,3]\n",
    "Majority_Element_Brute(nums )\n",
    "\n"
   ]
  },
  {
   "cell_type": "code",
   "execution_count": 11,
   "id": "047487f0",
   "metadata": {},
   "outputs": [
    {
     "data": {
      "text/plain": [
       "3"
      ]
     },
     "execution_count": 11,
     "metadata": {},
     "output_type": "execute_result"
    }
   ],
   "source": [
    "from collections import defaultdict\n",
    "# Hash Map\n",
    "def Majority_Element_Hash_Map(nums):\n",
    "    count=defaultdict(int) # stores the values in key pair \n",
    "    res=max_count=0  # intially res and max count will be zero \n",
    "\n",
    "    for num in nums: \n",
    "        count[num]+=1 # store count in key value \n",
    "        if max_count<count[num]: # 0< 3:1 here 1 is value \n",
    "            res=num # result update  to 3\n",
    "            max_count=count[num] # max count-> 1\n",
    "    return res\n",
    "\n",
    "Majority_Element_Hash_Map(nums)"
   ]
  },
  {
   "cell_type": "code",
   "execution_count": 7,
   "id": "c53b4af7",
   "metadata": {},
   "outputs": [
    {
     "data": {
      "text/plain": [
       "3"
      ]
     },
     "execution_count": 7,
     "metadata": {},
     "output_type": "execute_result"
    }
   ],
   "source": [
    "# Sorting \n",
    "def Majority_Element_Sort(nums):\n",
    "    nums.sort()\n",
    "    return nums[len(nums)//2]\n",
    "Majority_Element_Sort(nums)"
   ]
  },
  {
   "cell_type": "code",
   "execution_count": null,
   "id": "67535dac",
   "metadata": {},
   "outputs": [],
   "source": []
  }
 ],
 "metadata": {
  "kernelspec": {
   "display_name": "base",
   "language": "python",
   "name": "python3"
  },
  "language_info": {
   "codemirror_mode": {
    "name": "ipython",
    "version": 3
   },
   "file_extension": ".py",
   "mimetype": "text/x-python",
   "name": "python",
   "nbconvert_exporter": "python",
   "pygments_lexer": "ipython3",
   "version": "3.11.7"
  }
 },
 "nbformat": 4,
 "nbformat_minor": 5
}
