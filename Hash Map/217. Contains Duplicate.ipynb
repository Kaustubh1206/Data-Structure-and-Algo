{
 "cells": [
  {
   "cell_type": "markdown",
   "id": "82a6e43d",
   "metadata": {},
   "source": [
    "## 217. Contains Duplicate\n",
    "Input: nums = [1,2,3,1]\n",
    "\n",
    "\n",
    "Output: true\n",
    "\n",
    "\n",
    "Explanation:\n",
    "\n",
    "The element 1 occurs at the indices 0 and 3.\n",
    "\n"
   ]
  },
  {
   "cell_type": "code",
   "execution_count": 26,
   "id": "a6a335f6",
   "metadata": {},
   "outputs": [
    {
     "data": {
      "text/plain": [
       "[1, 3]"
      ]
     },
     "execution_count": 26,
     "metadata": {},
     "output_type": "execute_result"
    }
   ],
   "source": [
    "# Brute force \n",
    "def two_sum(nums,target):\n",
    "    for i in range(len(nums)):\n",
    "        for j in range(1,len(nums)):\n",
    "            if nums[i]+nums[j]==target:\n",
    "                return [i,j]\n",
    "    return []\n",
    "nums=[21,7,11,2]\n",
    "target=9\n",
    "two_sum(nums,target)"
   ]
  },
  {
   "cell_type": "code",
   "execution_count": 7,
   "id": "dbd51cec",
   "metadata": {},
   "outputs": [
    {
     "data": {
      "text/plain": [
       "False"
      ]
     },
     "execution_count": 7,
     "metadata": {},
     "output_type": "execute_result"
    }
   ],
   "source": [
    "# dictionary\n",
    "def contain_duplicate(nums):\n",
    "    freq={}\n",
    "    for num in nums:\n",
    "        if num in freq:\n",
    "            freq[num] +=1\n",
    "        else:\n",
    "            freq[num]=1\n",
    "    for count in freq.values(): # freq. value return values not keys\n",
    "        if count > 1:\n",
    "            return True\n",
    "    return False\n",
    "\n",
    "nums=[1,2,3]\n",
    "contain_duplicate(nums)"
   ]
  },
  {
   "cell_type": "code",
   "execution_count": 20,
   "id": "dff8c5ba",
   "metadata": {},
   "outputs": [
    {
     "data": {
      "text/plain": [
       "False"
      ]
     },
     "execution_count": 20,
     "metadata": {},
     "output_type": "execute_result"
    }
   ],
   "source": [
    "# set\n",
    "def contain_duplicate(nums):\n",
    "    seen=set()\n",
    "    for num in nums:\n",
    "        if num in seen:\n",
    "            return True \n",
    "        seen.add(num)\n",
    "    return False\n",
    "nums=[1,2,3]\n",
    "contain_duplicate(nums)"
   ]
  },
  {
   "cell_type": "code",
   "execution_count": 21,
   "id": "0503db1d",
   "metadata": {},
   "outputs": [
    {
     "data": {
      "text/plain": [
       "False"
      ]
     },
     "execution_count": 21,
     "metadata": {},
     "output_type": "execute_result"
    }
   ],
   "source": [
    "# \n",
    "def contain_duplicate_comparelength(nums):\n",
    "    return len(set(nums)) != len(nums)\n",
    "contain_duplicate_comparelength(nums)"
   ]
  },
  {
   "cell_type": "code",
   "execution_count": 28,
   "id": "c111c58f",
   "metadata": {},
   "outputs": [
    {
     "data": {
      "text/plain": [
       "[1, 3]"
      ]
     },
     "execution_count": 28,
     "metadata": {},
     "output_type": "execute_result"
    }
   ],
   "source": [
    "def two_sum_enum(nums,target):\n",
    "    num_map={}\n",
    "    for i, n in enumerate(nums):\n",
    "        diff =target-n\n",
    "        if diff in num_map:\n",
    "            return [num_map[diff],i]\n",
    "        num_map[n]=i\n",
    "    return []\n",
    "two_sum_enum(nums,target)"
   ]
  },
  {
   "cell_type": "code",
   "execution_count": null,
   "id": "47bd2719",
   "metadata": {},
   "outputs": [],
   "source": []
  }
 ],
 "metadata": {
  "kernelspec": {
   "display_name": "base",
   "language": "python",
   "name": "python3"
  },
  "language_info": {
   "codemirror_mode": {
    "name": "ipython",
    "version": 3
   },
   "file_extension": ".py",
   "mimetype": "text/x-python",
   "name": "python",
   "nbconvert_exporter": "python",
   "pygments_lexer": "ipython3",
   "version": "3.11.7"
  }
 },
 "nbformat": 4,
 "nbformat_minor": 5
}
