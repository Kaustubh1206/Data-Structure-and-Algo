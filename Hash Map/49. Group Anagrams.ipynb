{
 "cells": [
  {
   "cell_type": "markdown",
   "id": "16f4e444",
   "metadata": {},
   "source": [
    "## 49. Group Anagrams\n",
    "Input: strs = [\"act\",\"pots\",\"tops\",\"cat\",\"stop\",\"hat\"]\n",
    "\n",
    "Output: [[\"hat\"],[\"act\", \"cat\"],[\"stop\", \"pots\", \"tops\"]]\n"
   ]
  },
  {
   "cell_type": "code",
   "execution_count": 5,
   "id": "3fce7d4c",
   "metadata": {},
   "outputs": [
    {
     "data": {
      "text/plain": [
       "[['act', 'cat'], ['pots', 'tops', 'stop'], ['hat']]"
      ]
     },
     "execution_count": 5,
     "metadata": {},
     "output_type": "execute_result"
    }
   ],
   "source": [
    "from collections import defaultdict\n",
    "def group_anagram_sorted(strs):\n",
    "    anagrams=defaultdict(list) # this is a dictionary to store grouped words\n",
    "\n",
    "    for word in strs: # iterate through every word\n",
    "        sorted_word=\"\".join(sorted(word)) # sort every word \n",
    "        anagrams[sorted_word].append(word) # append it in key value pairs\n",
    "\n",
    "        #cat-> act: [cat]\n",
    "        # act -> act : [cat,act ]\n",
    "\n",
    "        #           key -> value\n",
    "        # stops -> opts : stops,tops,pots\n",
    "\n",
    "    return list(anagrams.values()) # return the values in form of list \n",
    "strs = [\"act\",\"pots\",\"tops\",\"cat\",\"stop\",\"hat\"]\n",
    "group_anagram_sorted(strs)\n"
   ]
  },
  {
   "cell_type": "code",
   "execution_count": 7,
   "id": "346f2747",
   "metadata": {},
   "outputs": [
    {
     "data": {
      "text/plain": [
       "dict_values([['act', 'cat'], ['pots', 'tops', 'stop'], ['hat']])"
      ]
     },
     "execution_count": 7,
     "metadata": {},
     "output_type": "execute_result"
    }
   ],
   "source": [
    "# Group Anagaram using frequency\n",
    "def group_anagram_freq(strs):\n",
    "    anagarams=defaultdict(list)\n",
    "\n",
    "    for word in strs: # iterate through every word(element )\n",
    "        freq=[0]*26 # create frequ -> 26 0's instance \n",
    "\n",
    "        for char in word: # take each alphabet form word\n",
    "            freq[ord(char)-ord(\"a\")] +=1 # c-> 69 a-> 66 = 69-66 ->3\n",
    "\n",
    "            \n",
    "        \n",
    "        key=tuple(freq) \n",
    "        #       a b c d e f g h i j k l m n o p q r s t u v w x y z\n",
    "        # key = 1 0 1 0 0 0 0 0 0 0 0 0 0 0 0 0 0 0 0 1 0 0 0 0 0 0  -> this will be key wor word act \n",
    "\n",
    "        # we ahave created key using tuple \n",
    "        anagarams[key].append(word) # on the basis of key we will append word like act,cat have same alphabets\n",
    "\n",
    "    return anagarams.values()# at the last we will return values not keys\n",
    "\n",
    "group_anagram_freq(strs)"
   ]
  },
  {
   "cell_type": "code",
   "execution_count": null,
   "id": "777883eb",
   "metadata": {},
   "outputs": [],
   "source": []
  }
 ],
 "metadata": {
  "kernelspec": {
   "display_name": "base",
   "language": "python",
   "name": "python3"
  },
  "language_info": {
   "codemirror_mode": {
    "name": "ipython",
    "version": 3
   },
   "file_extension": ".py",
   "mimetype": "text/x-python",
   "name": "python",
   "nbconvert_exporter": "python",
   "pygments_lexer": "ipython3",
   "version": "3.11.7"
  }
 },
 "nbformat": 4,
 "nbformat_minor": 5
}
