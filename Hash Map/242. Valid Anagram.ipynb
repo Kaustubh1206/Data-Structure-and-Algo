{
 "cells": [
  {
   "cell_type": "markdown",
   "id": "9b7a1569",
   "metadata": {},
   "source": [
    "## 242. Valid Anagram\n",
    "Input: s = \"anagram\", t = \"nagaram\"\n",
    "\n",
    "Output: true"
   ]
  },
  {
   "cell_type": "code",
   "execution_count": 11,
   "id": "c79c62fa",
   "metadata": {},
   "outputs": [
    {
     "data": {
      "text/plain": [
       "True"
      ]
     },
     "execution_count": 11,
     "metadata": {},
     "output_type": "execute_result"
    }
   ],
   "source": [
    "def validAnagram(s,t):\n",
    "    return sorted(s)==sorted(t)\n",
    "s = \"anagram\"\n",
    "t = \"nagaram\"\n",
    "validAnagram(s,t)"
   ]
  },
  {
   "cell_type": "code",
   "execution_count": 15,
   "id": "8987262b",
   "metadata": {},
   "outputs": [
    {
     "data": {
      "text/plain": [
       "True"
      ]
     },
     "execution_count": 15,
     "metadata": {},
     "output_type": "execute_result"
    }
   ],
   "source": [
    "def validAnagram_hash(s,t):\n",
    "    if len(s)!=len(t):\n",
    "        return False\n",
    "    Counts={}\n",
    "    Countt={}\n",
    "    for i in range(len(s)):\n",
    "        Counts[s[i]]=1 + Counts.get(s[i],0) # store in key value pairs \n",
    "        Countt[t[i]]=1+ Countt.get(t[i],0)\n",
    "\n",
    "    return Counts==Countt\n",
    "validAnagram_hash(s,t)\n",
    "\n"
   ]
  },
  {
   "cell_type": "code",
   "execution_count": null,
   "id": "801a571c",
   "metadata": {},
   "outputs": [
    {
     "data": {
      "text/plain": [
       "True"
      ]
     },
     "execution_count": 18,
     "metadata": {},
     "output_type": "execute_result"
    }
   ],
   "source": [
    "def validAnagram_0s(s,t):\n",
    "    if len(s)!=len(t):\n",
    "        return False\n",
    "    count=[0]*26 # 000000000\n",
    "\n",
    "    for i in range(len(s)): \n",
    "        count[ord(s[i])-ord(\"a\")] +=1 # if a occurs in string s we convert it into asci  and incrment in our count at that particular index\n",
    "        count[ord(t[i])-ord(\"a\")] -=1 \n",
    "    \n",
    "    for val in count:\n",
    "        if val !=0: \n",
    "            return False\n",
    "    return True\n",
    "\n",
    "validAnagram_0s(s,t)"
   ]
  },
  {
   "cell_type": "code",
   "execution_count": null,
   "id": "431dc9c5",
   "metadata": {},
   "outputs": [],
   "source": []
  }
 ],
 "metadata": {
  "kernelspec": {
   "display_name": "base",
   "language": "python",
   "name": "python3"
  },
  "language_info": {
   "codemirror_mode": {
    "name": "ipython",
    "version": 3
   },
   "file_extension": ".py",
   "mimetype": "text/x-python",
   "name": "python",
   "nbconvert_exporter": "python",
   "pygments_lexer": "ipython3",
   "version": "3.11.7"
  }
 },
 "nbformat": 4,
 "nbformat_minor": 5
}
