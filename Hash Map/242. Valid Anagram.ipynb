{
 "cells": [
  {
   "cell_type": "markdown",
   "id": "9b7a1569",
   "metadata": {},
   "source": [
    "## 242. Valid Anagram\n",
    "Input: s = \"anagram\", t = \"nagaram\"\n",
    "\n",
    "Output: true"
   ]
  },
  {
   "cell_type": "code",
   "execution_count": 11,
   "id": "c79c62fa",
   "metadata": {},
   "outputs": [
    {
     "data": {
      "text/plain": [
       "True"
      ]
     },
     "execution_count": 11,
     "metadata": {},
     "output_type": "execute_result"
    }
   ],
   "source": [
    "def validAnagram(s,t):\n",
    "    return sorted(s)==sorted(t)\n",
    "s = \"anagram\"\n",
    "t = \"nagaram\"\n",
    "validAnagram(s,t)"
   ]
  },
  {
   "cell_type": "code",
   "execution_count": null,
   "id": "8987262b",
   "metadata": {},
   "outputs": [
    {
     "ename": "SyntaxError",
     "evalue": "invalid syntax (1356180924.py, line 2)",
     "output_type": "error",
     "traceback": [
      "\u001b[0;36m  Cell \u001b[0;32mIn[12], line 2\u001b[0;36m\u001b[0m\n\u001b[0;31m    s=\u001b[0m\n\u001b[0m      ^\u001b[0m\n\u001b[0;31mSyntaxError\u001b[0m\u001b[0;31m:\u001b[0m invalid syntax\n"
     ]
    }
   ],
   "source": [
    "# def validAnagram_hash(s,t):\n",
    "#     s="
   ]
  }
 ],
 "metadata": {
  "kernelspec": {
   "display_name": "base",
   "language": "python",
   "name": "python3"
  },
  "language_info": {
   "codemirror_mode": {
    "name": "ipython",
    "version": 3
   },
   "file_extension": ".py",
   "mimetype": "text/x-python",
   "name": "python",
   "nbconvert_exporter": "python",
   "pygments_lexer": "ipython3",
   "version": "3.11.7"
  }
 },
 "nbformat": 4,
 "nbformat_minor": 5
}
