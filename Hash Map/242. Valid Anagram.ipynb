{
 "cells": [
  {
   "cell_type": "markdown",
   "id": "9b7a1569",
   "metadata": {},
   "source": [
    "## 242. Valid Anagram\n",
    "Input: s = \"anagram\", t = \"nagaram\"\n",
    "\n",
    "Output: true"
   ]
  },
  {
   "cell_type": "code",
   "execution_count": 4,
   "id": "c79c62fa",
   "metadata": {},
   "outputs": [
    {
     "data": {
      "text/plain": [
       "True"
      ]
     },
     "execution_count": 4,
     "metadata": {},
     "output_type": "execute_result"
    }
   ],
   "source": [
    "def validAnagram(s,t):\n",
    "    return sorted(s)==sorted(t)\n",
    "s = \"anagram\"\n",
    "t = \"nagaram\"\n",
    "validAnagram(s,t)"
   ]
  },
  {
   "cell_type": "code",
   "execution_count": null,
   "id": "8987262b",
   "metadata": {},
   "outputs": [],
   "source": [
    "def validAnagram_hash(s,t):\n",
    "    s="
   ]
  }
 ],
 "metadata": {
  "kernelspec": {
   "display_name": "base",
   "language": "python",
   "name": "python3"
  },
  "language_info": {
   "codemirror_mode": {
    "name": "ipython",
    "version": 3
   },
   "file_extension": ".py",
   "mimetype": "text/x-python",
   "name": "python",
   "nbconvert_exporter": "python",
   "pygments_lexer": "ipython3",
   "version": "3.11.7"
  }
 },
 "nbformat": 4,
 "nbformat_minor": 5
}
