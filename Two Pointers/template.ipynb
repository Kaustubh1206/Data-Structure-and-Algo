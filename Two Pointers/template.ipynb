{
 "cells": [
  {
   "cell_type": "markdown",
   "id": "681b1b85",
   "metadata": {},
   "source": [
    "# Two Pointers \n",
    "\n",
    "\n"
   ]
  },
  {
   "cell_type": "markdown",
   "id": "cce551c4",
   "metadata": {},
   "source": [
    "# When to use -\n",
    "sorted +  2 pairs    +  sum\n",
    "          subarray      target\n",
    "          two lines     maximum\n",
    "          triplets      minimum\n",
    "\n",
    "\n",
    "# Keywords-\n",
    "- sorted arrays\n",
    "- pair / triplets / quadruplets\n",
    "- closet sum\n",
    "- removes duplicates in place\n",
    "- reverse / palindrome \n",
    "- containers / max water\n"
   ]
  },
  {
   "cell_type": "code",
   "execution_count": 7,
   "id": "807a322e",
   "metadata": {},
   "outputs": [],
   "source": [
    "## Template\n",
    "def two_pointers(arr, target):\n",
    "    left, right = 0, len(arr) - 1\n",
    "    while left < right:\n",
    "        # process\n",
    "        if arr[left] + arr[right] == target:\n",
    "            return [left, right]\n",
    "        elif arr[left] + arr[right] < target:\n",
    "            left += 1\n",
    "        else:\n",
    "            right -= 1\n",
    "\n",
    "# TC - O(N)\n",
    "# SC - O(1)"
   ]
  },
  {
   "cell_type": "markdown",
   "id": "c3b436e2",
   "metadata": {},
   "source": [
    "## 1. Opposite Ends ( Classic )\n",
    "- Used in pair sum / container / palindrome type problems.\n",
    "- Use when array is sorted and you’re searching for pair/triplet/quadruplet."
   ]
  },
  {
   "cell_type": "code",
   "execution_count": 8,
   "id": "329d9852",
   "metadata": {},
   "outputs": [],
   "source": [
    "def two_pointers_opposite(arr, target):\n",
    "    left, right = 0, len(arr) - 1\n",
    "    while left < right:\n",
    "        curr_sum = arr[left] + arr[right]\n",
    "        if curr_sum == target:\n",
    "            return [left, right]\n",
    "        elif curr_sum < target:\n",
    "            left += 1\n",
    "        else:\n",
    "            right -= 1\n"
   ]
  },
  {
   "cell_type": "code",
   "execution_count": null,
   "id": "050a0f82",
   "metadata": {},
   "outputs": [],
   "source": []
  }
 ],
 "metadata": {
  "kernelspec": {
   "display_name": "base",
   "language": "python",
   "name": "python3"
  },
  "language_info": {
   "codemirror_mode": {
    "name": "ipython",
    "version": 3
   },
   "file_extension": ".py",
   "mimetype": "text/x-python",
   "name": "python",
   "nbconvert_exporter": "python",
   "pygments_lexer": "ipython3",
   "version": "3.11.7"
  }
 },
 "nbformat": 4,
 "nbformat_minor": 5
}
