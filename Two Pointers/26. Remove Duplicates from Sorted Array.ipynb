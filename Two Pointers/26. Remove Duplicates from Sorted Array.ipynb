{
 "cells": [
  {
   "cell_type": "markdown",
   "id": "d1a6b241",
   "metadata": {},
   "source": [
    "# 26. Remove Duplicates from Sorted Array\n",
    "Input: nums = [1,1,2]\n",
    "Output: 2, nums = [1,2,_]\n"
   ]
  },
  {
   "cell_type": "code",
   "execution_count": 7,
   "id": "472aae07",
   "metadata": {},
   "outputs": [
    {
     "data": {
      "text/plain": [
       "5"
      ]
     },
     "execution_count": 7,
     "metadata": {},
     "output_type": "execute_result"
    }
   ],
   "source": [
    "def removeduplicates(nums):\n",
    "    if not nums:\n",
    "        return 0\n",
    "    slow=0\n",
    "    \n",
    "    for fast in range(len( nums)): \n",
    "        if nums[fast]!=nums[slow]: # if there is unique values then we will update fast \n",
    "            slow +=1 # slow wil go to next \n",
    "            nums[slow] = nums[fast] # update \n",
    "    return slow + 1 # count of total slow +1\n",
    "    \n",
    "nums=[0,0,0,1,1,2,2,3,3,4]\n",
    "removeduplicates(nums)\n"
   ]
  },
  {
   "cell_type": "code",
   "execution_count": 1,
   "id": "05285988",
   "metadata": {},
   "outputs": [
    {
     "data": {
      "text/plain": [
       "[1, 3, 12, 0, 0]"
      ]
     },
     "execution_count": 1,
     "metadata": {},
     "output_type": "execute_result"
    }
   ],
   "source": [
    "def removeduplicates(nums):\n",
    "    slow=0\n",
    "    for fast in range(len(nums)):\n",
    "        if nums[fast]!=0: # we dont want to update value 0 this will handle it \n",
    "            nums[slow]=nums[fast] # update value \n",
    "            slow+=1 # increment slow\n",
    "    for i in range(slow,len(nums)):\n",
    "        nums[i]=0\n",
    "    return nums\n",
    "nums=[0,1,0,3,12]\n",
    "removeduplicates(nums)"
   ]
  },
  {
   "cell_type": "code",
   "execution_count": null,
   "id": "a9cef343",
   "metadata": {},
   "outputs": [],
   "source": []
  }
 ],
 "metadata": {
  "kernelspec": {
   "display_name": "base",
   "language": "python",
   "name": "python3"
  },
  "language_info": {
   "codemirror_mode": {
    "name": "ipython",
    "version": 3
   },
   "file_extension": ".py",
   "mimetype": "text/x-python",
   "name": "python",
   "nbconvert_exporter": "python",
   "pygments_lexer": "ipython3",
   "version": "3.11.7"
  }
 },
 "nbformat": 4,
 "nbformat_minor": 5
}
