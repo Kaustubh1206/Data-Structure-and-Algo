{
 "cells": [
  {
   "cell_type": "markdown",
   "id": "d1a6b241",
   "metadata": {},
   "source": [
    "# 26. Remove Duplicates from Sorted Array\n",
    "Input: nums = [1,1,2]\n",
    "Output: 2, nums = [1,2,_]\n"
   ]
  },
  {
   "cell_type": "code",
   "execution_count": 3,
   "id": "472aae07",
   "metadata": {},
   "outputs": [
    {
     "data": {
      "text/plain": [
       "5"
      ]
     },
     "execution_count": 3,
     "metadata": {},
     "output_type": "execute_result"
    }
   ],
   "source": [
    "def removeduplicates(nums):\n",
    "    if not nums:\n",
    "        return 0\n",
    "    slow=0\n",
    "    \n",
    "    for fast in range(len( nums)):\n",
    "        if nums[fast]!=nums[slow]:\n",
    "            slow +=1\n",
    "            nums[slow] = nums[fast]\n",
    "    return slow + 1\n",
    "    \n",
    "nums=[0,0,0,1,1,2,2,3,3,4]\n",
    "removeduplicates(nums)\n"
   ]
  },
  {
   "cell_type": "code",
   "execution_count": null,
   "id": "05285988",
   "metadata": {},
   "outputs": [],
   "source": []
  }
 ],
 "metadata": {
  "kernelspec": {
   "display_name": "base",
   "language": "python",
   "name": "python3"
  },
  "language_info": {
   "codemirror_mode": {
    "name": "ipython",
    "version": 3
   },
   "file_extension": ".py",
   "mimetype": "text/x-python",
   "name": "python",
   "nbconvert_exporter": "python",
   "pygments_lexer": "ipython3",
   "version": "3.11.7"
  }
 },
 "nbformat": 4,
 "nbformat_minor": 5
}
