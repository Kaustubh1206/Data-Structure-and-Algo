{
 "cells": [
  {
   "cell_type": "markdown",
   "id": "274dbcb3",
   "metadata": {},
   "source": [
    "# 283. Move Zeroes\n",
    "Input: nums = [0,1,0,3,12]\n",
    "Output: [1,3,12,0,0]"
   ]
  },
  {
   "cell_type": "code",
   "execution_count": 3,
   "id": "d9ab2d33",
   "metadata": {},
   "outputs": [
    {
     "data": {
      "text/plain": [
       "[1, 3, 12, 0, 0]"
      ]
     },
     "execution_count": 3,
     "metadata": {},
     "output_type": "execute_result"
    }
   ],
   "source": [
    "def removeduplicates(nums):\n",
    "    slow=0\n",
    "    for fast in range(len(nums)):\n",
    "        if nums[fast]!=0: # if the fast encounters value other than 0\n",
    "            nums[slow]=nums[fast] # change the 0 to that unique value \n",
    "            slow+=1 # # slow will go to next \n",
    "#   0 1 0 3 12 \n",
    "#   s f -> unique \n",
    "#   1 1 0 3 12 slow will go to 1 th index\n",
    "#   1 3 0 3 12  \n",
    "\n",
    "\n",
    "    for i in range(slow,len(nums)): # slow is on 3rd index now we got all unique value lest make rest of value 0\n",
    "        nums[i]=0 # assign 0 \n",
    "    return nums\n",
    "nums=[0,1,0,3,12]\n",
    "removeduplicates(nums)"
   ]
  },
  {
   "cell_type": "code",
   "execution_count": null,
   "id": "75c100c6",
   "metadata": {},
   "outputs": [],
   "source": []
  }
 ],
 "metadata": {
  "kernelspec": {
   "display_name": "base",
   "language": "python",
   "name": "python3"
  },
  "language_info": {
   "codemirror_mode": {
    "name": "ipython",
    "version": 3
   },
   "file_extension": ".py",
   "mimetype": "text/x-python",
   "name": "python",
   "nbconvert_exporter": "python",
   "pygments_lexer": "ipython3",
   "version": "3.11.7"
  }
 },
 "nbformat": 4,
 "nbformat_minor": 5
}
