{
 "cells": [
  {
   "cell_type": "markdown",
   "id": "9d8949f1",
   "metadata": {},
   "source": [
    "## 344. Reverse String\n",
    "Input: s = [\"h\",\"e\",\"l\",\"l\",\"o\"]\n",
    "Output: [\"o\",\"l\",\"l\",\"e\",\"h\"]"
   ]
  },
  {
   "cell_type": "code",
   "execution_count": 2,
   "id": "2e49cd92",
   "metadata": {},
   "outputs": [
    {
     "data": {
      "text/plain": [
       "['o', 'l', 'l', 'e', 'h']"
      ]
     },
     "execution_count": 2,
     "metadata": {},
     "output_type": "execute_result"
    }
   ],
   "source": [
    "def reverse ( s):\n",
    "    left =0\n",
    "    right =len(s)-1\n",
    "    while left <right :\n",
    "        s[left],s[right]=s[right],s[left]\n",
    "        left +=1\n",
    "        right -=1\n",
    "    return s\n",
    "s=[\"h\",\"e\",\"l\",\"l\",\"o\"]\n",
    "reverse(s)\n"
   ]
  },
  {
   "cell_type": "code",
   "execution_count": null,
   "id": "08b7f3f8",
   "metadata": {},
   "outputs": [],
   "source": []
  }
 ],
 "metadata": {
  "kernelspec": {
   "display_name": "base",
   "language": "python",
   "name": "python3"
  },
  "language_info": {
   "codemirror_mode": {
    "name": "ipython",
    "version": 3
   },
   "file_extension": ".py",
   "mimetype": "text/x-python",
   "name": "python",
   "nbconvert_exporter": "python",
   "pygments_lexer": "ipython3",
   "version": "3.11.7"
  }
 },
 "nbformat": 4,
 "nbformat_minor": 5
}
