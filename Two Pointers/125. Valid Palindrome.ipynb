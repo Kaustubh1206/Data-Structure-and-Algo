{
 "cells": [
  {
   "cell_type": "code",
   "execution_count": null,
   "id": "57eaa285",
   "metadata": {},
   "outputs": [],
   "source": [
    "s=\"A man, a plan, a canal: Panama\"\n"
   ]
  },
  {
   "cell_type": "code",
   "execution_count": 9,
   "id": "ae401124",
   "metadata": {},
   "outputs": [
    {
     "data": {
      "text/plain": [
       "True"
      ]
     },
     "execution_count": 9,
     "metadata": {},
     "output_type": "execute_result"
    }
   ],
   "source": [
    "def validPalindrom(s):\n",
    "    left=0\n",
    "    right=len(s)-1\n",
    "    while left<right:\n",
    "        while(left <right and not s[left].isalnum()):\n",
    "            left+=1\n",
    "        while(left < right and not s[right].isalnum()):\n",
    "            right -=1\n",
    "        if s[left].lower()!=s[right].lower():\n",
    "            return False\n",
    "        left +=1\n",
    "        right-=1\n",
    "    return True\n",
    "s=\"A man, a plan, a canal: Panama\"\n",
    "\n",
    "validPalindrom(s)"
   ]
  },
  {
   "cell_type": "code",
   "execution_count": null,
   "id": "fc288230",
   "metadata": {},
   "outputs": [],
   "source": []
  }
 ],
 "metadata": {
  "kernelspec": {
   "display_name": "base",
   "language": "python",
   "name": "python3"
  },
  "language_info": {
   "codemirror_mode": {
    "name": "ipython",
    "version": 3
   },
   "file_extension": ".py",
   "mimetype": "text/x-python",
   "name": "python",
   "nbconvert_exporter": "python",
   "pygments_lexer": "ipython3",
   "version": "3.11.7"
  }
 },
 "nbformat": 4,
 "nbformat_minor": 5
}
