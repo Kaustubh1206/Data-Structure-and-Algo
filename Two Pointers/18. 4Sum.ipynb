{
 "cells": [
  {
   "cell_type": "markdown",
   "id": "b216fc63",
   "metadata": {},
   "source": [
    "# 18. 4Sum\n",
    "### Input: nums = [1,0,-1,0,-2,2]\n",
    "### target = 0\n",
    "### Output: [[-2,-1,1,2],[-2,0,0,2],[-1,0,0,1]]\n",
    "\n"
   ]
  },
  {
   "cell_type": "code",
   "execution_count": null,
   "id": "a648a1b4",
   "metadata": {},
   "outputs": [
    {
     "data": {
      "text/plain": [
       "[[-2, -1, 1, 2], [-2, 0, 0, 2], [-1, 0, 0, 1]]"
      ]
     },
     "execution_count": 3,
     "metadata": {},
     "output_type": "execute_result"
    }
   ],
   "source": [
    "def foursum(nums,target):\n",
    "    nums.sort() # sort the elements in array\n",
    "    n=len(nums) \n",
    "    answer=[]\n",
    "\n",
    "    for i in range (n): # i will start from intial array \n",
    "\n",
    "        # this is used to avoid duplicates from the array\n",
    "        # [1, 1, 2, 3 ]\n",
    "        # in the begininng there are two 1s do in next iteration we dont want 1 so skip\n",
    "        if i > 0 and nums[i]==nums[i-1]: # first check the i is greater than index 0 and value of i suld not be same as previous one \n",
    "            continue\n",
    "        for j in range(i+1,n): # j will start from i +1 \n",
    "            if j+i >1 and nums[j]==nums[j-1]: # avoid duplicates\n",
    "                continue\n",
    "\n",
    "            low=j+1 # low will start from next element after j \n",
    "            high=n-1 # last element \n",
    "\n",
    "            while low < high: \n",
    "                sum=nums[i]+nums[j]+nums[low]+nums[high] #sum\n",
    "                if sum==target:\n",
    "                    answer.append([nums[i],nums[j],nums[low],nums[high]]) \n",
    "                    low +=1 # low will increment\n",
    "                    high -=1 # high will decrement\n",
    "\n",
    "                    while low<high and nums[low]==nums[low-1]: # if low is same as previous low \n",
    "                        low +=1 # low increment \n",
    " \n",
    "                    while low<high and nums[high]==nums[high+1]: # if high is same as previous high \n",
    "                        high -=1  # high decrement \n",
    "\n",
    "\n",
    "                elif sum < target: # if sum is less than target \n",
    "                    low +=1 # low increment \n",
    "                else:\n",
    "                    high -=1 # high decremnet \n",
    "                    \n",
    "    return answer\n",
    "nums=[1,0,-1,0,-2,2]\n",
    "target=0\n",
    "foursum(nums,target)\n"
   ]
  },
  {
   "cell_type": "markdown",
   "id": "93fc3c53",
   "metadata": {},
   "source": [
    "1  0 -1  0  -2  2\n",
    "sort\n",
    "\n",
    "-2  -1  0  0  1  2\n",
    "i    j  l        h ->"
   ]
  }
 ],
 "metadata": {
  "kernelspec": {
   "display_name": "base",
   "language": "python",
   "name": "python3"
  },
  "language_info": {
   "codemirror_mode": {
    "name": "ipython",
    "version": 3
   },
   "file_extension": ".py",
   "mimetype": "text/x-python",
   "name": "python",
   "nbconvert_exporter": "python",
   "pygments_lexer": "ipython3",
   "version": "3.11.7"
  }
 },
 "nbformat": 4,
 "nbformat_minor": 5
}
