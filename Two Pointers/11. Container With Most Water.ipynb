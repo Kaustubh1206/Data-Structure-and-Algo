{
 "cells": [
  {
   "cell_type": "markdown",
   "id": "16caced2",
   "metadata": {},
   "source": [
    "# 11. Container With Most Water\n",
    "Input: height = [1,8,6,2,5,4,8,3,7]\n",
    "Output: 49\n",
    "Explanation: The above vertical lines are represented by array [1,8,6,2,5,4,8,3,7]. In this case, the max area of water (blue section) the container can contain is 49."
   ]
  },
  {
   "cell_type": "code",
   "execution_count": 7,
   "id": "115fc747",
   "metadata": {},
   "outputs": [
    {
     "data": {
      "text/plain": [
       "49"
      ]
     },
     "execution_count": 7,
     "metadata": {},
     "output_type": "execute_result"
    }
   ],
   "source": [
    "def container(height):\n",
    "    left=0  # intialize to start of array \n",
    "    right=len(height)-1 # intialize to end of array \n",
    "    max_area=0 # let max area in start be 0 \n",
    "    while left <right: # compare\n",
    "        area=(right-left)*min(height[left],height[right]) # first area on x axis -> right - left \n",
    "        # min height of left or right\n",
    "        max_area=max(max_area,area) # max_area -> which area is max\n",
    " \n",
    "        if height[left] < height[right]: # compare \n",
    "            left +=1 # increment\n",
    "        else: \n",
    "            right -=1 # decremenr \n",
    "    return max_area\n",
    "\n",
    "height=[1,8,6,2,5,4,8,3,7]\n",
    "container(height)"
   ]
  },
  {
   "cell_type": "code",
   "execution_count": null,
   "id": "4aff55c9",
   "metadata": {},
   "outputs": [],
   "source": []
  }
 ],
 "metadata": {
  "kernelspec": {
   "display_name": "base",
   "language": "python",
   "name": "python3"
  },
  "language_info": {
   "codemirror_mode": {
    "name": "ipython",
    "version": 3
   },
   "file_extension": ".py",
   "mimetype": "text/x-python",
   "name": "python",
   "nbconvert_exporter": "python",
   "pygments_lexer": "ipython3",
   "version": "3.11.7"
  }
 },
 "nbformat": 4,
 "nbformat_minor": 5
}
