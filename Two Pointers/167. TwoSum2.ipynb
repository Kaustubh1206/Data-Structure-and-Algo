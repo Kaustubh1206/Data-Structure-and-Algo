{
 "cells": [
  {
   "cell_type": "markdown",
   "id": "78708a0e",
   "metadata": {},
   "source": [
    "## 167. Two Sum II - Input Array Is Sorted\n",
    "input=[2,7,11,15]\n",
    "target=[1,2]"
   ]
  },
  {
   "cell_type": "code",
   "execution_count": null,
   "id": "7086b7e6",
   "metadata": {},
   "outputs": [
    {
     "data": {
      "text/plain": [
       "[1, 6]"
      ]
     },
     "execution_count": 1,
     "metadata": {},
     "output_type": "execute_result"
    }
   ],
   "source": [
    "def twosum(numbers, target):\n",
    "    left=0 # intalize to 1 index 0\n",
    "\n",
    "    right=len(numbers)-1 # intialize to 8 index 5\n",
    "\n",
    "    while left<right: # condition to check 1 < 8\n",
    "        sum=numbers[left]+numbers[right] # -> 9 \n",
    "        if sum == target: \n",
    "            return [left +1 ,right +1] # result\n",
    "        elif sum<target: # sum is less\n",
    "            left +=1 # \n",
    "        else:\n",
    "            right -=1\n",
    "            \n",
    "numbers=[1,2,3,4,7,8]\n",
    "target=9\n",
    "twosum(numbers,target)"
   ]
  },
  {
   "cell_type": "code",
   "execution_count": null,
   "id": "605cf1ee",
   "metadata": {},
   "outputs": [],
   "source": []
  },
  {
   "cell_type": "code",
   "execution_count": null,
   "id": "40d59db0",
   "metadata": {},
   "outputs": [],
   "source": []
  }
 ],
 "metadata": {
  "kernelspec": {
   "display_name": "base",
   "language": "python",
   "name": "python3"
  },
  "language_info": {
   "codemirror_mode": {
    "name": "ipython",
    "version": 3
   },
   "file_extension": ".py",
   "mimetype": "text/x-python",
   "name": "python",
   "nbconvert_exporter": "python",
   "pygments_lexer": "ipython3",
   "version": "3.11.7"
  }
 },
 "nbformat": 4,
 "nbformat_minor": 5
}
