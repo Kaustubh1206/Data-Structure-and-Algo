{
 "cells": [
  {
   "cell_type": "markdown",
   "id": "a86bf92c",
   "metadata": {},
   "source": [
    "# 977. Squares of a Sorted Array\n",
    "nums=[-4,-1,0,3,10]\n",
    "output=[0,1,9,16,100]"
   ]
  },
  {
   "cell_type": "code",
   "execution_count": 2,
   "id": "645c72aa",
   "metadata": {},
   "outputs": [
    {
     "data": {
      "text/plain": [
       "[0, 1, 9, 16, 100]"
      ]
     },
     "execution_count": 2,
     "metadata": {},
     "output_type": "execute_result"
    }
   ],
   "source": [
    "def squaresofsorted(nums):\n",
    "    n=len(nums) # len of arr\n",
    "    left=0 # intailize to 0 index\n",
    "    right=n-1 # intiaize to last \n",
    "    pos=n-1 # store the result from last \n",
    "    result=[0]*n # making same size of array of 0 instance\n",
    "\n",
    "    while left <= right: #  \n",
    "        \n",
    "        if abs(nums[left]) > abs(nums[right]): # abs makes the no positive \n",
    "            # 4 > 10 - condition not satisfied\n",
    "            # 4 > 3 - condition satisifies \n",
    "\n",
    "            result[pos]= nums[left] * nums[left]  # here we will square \n",
    "            # and store it to last avaiable position as the array is sorted\n",
    "            left +=1 # increment left \n",
    "\n",
    "        else: # if condition not satisfies \n",
    "            result[pos]= nums[right]* nums[right] # sqaure\n",
    "            # store at last aviable \n",
    "            right -=1  # right decrement \n",
    "        pos -=1 # postion decremnet after every iteration \n",
    "    return result # returm\n",
    "\n",
    "nums=[-4,-1,0,3,10]\n",
    "squaresofsorted(nums)\n",
    "\n",
    "# TC - O(N)\n",
    "# SC - O(1)"
   ]
  },
  {
   "cell_type": "code",
   "execution_count": null,
   "id": "dc639669",
   "metadata": {},
   "outputs": [],
   "source": []
  }
 ],
 "metadata": {
  "kernelspec": {
   "display_name": "base",
   "language": "python",
   "name": "python3"
  },
  "language_info": {
   "codemirror_mode": {
    "name": "ipython",
    "version": 3
   },
   "file_extension": ".py",
   "mimetype": "text/x-python",
   "name": "python",
   "nbconvert_exporter": "python",
   "pygments_lexer": "ipython3",
   "version": "3.11.7"
  }
 },
 "nbformat": 4,
 "nbformat_minor": 5
}
