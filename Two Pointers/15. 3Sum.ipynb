{
 "cells": [
  {
   "cell_type": "markdown",
   "id": "0e2219d2",
   "metadata": {},
   "source": [
    "# 15. 3Sum\n",
    "\n",
    "Input: nums = [-1,0,1,2,-1,-4] \n",
    "\n",
    "Output: [[-1,-1,2],[-1,0,1]]\n",
    "\n",
    "Explanation: \n",
    "\n",
    "nums[0] + nums[1] + nums[2] = (-1) + 0 + 1 = 0.\n",
    "\n",
    "nums[1] + nums[2] + nums[4] = 0 + 1 + (-1) = 0.\n",
    "\n",
    "nums[0] + nums[3] + nums[4] = (-1) + 2 + (-1) = 0.\n",
    "\n",
    "The distinct triplets are [-1,0,1] and [-1,-1,2].\n",
    "\n",
    "Notice that the order of the output and the order of the triplets does not matter."
   ]
  },
  {
   "cell_type": "code",
   "execution_count": 2,
   "id": "c299b182",
   "metadata": {},
   "outputs": [
    {
     "data": {
      "text/plain": [
       "[[-3, 0, 3], [-3, 1, 2], [-2, -1, 3], [-2, 0, 2], [-1, 0, 1]]"
      ]
     },
     "execution_count": 2,
     "metadata": {},
     "output_type": "execute_result"
    }
   ],
   "source": [
    "def threesum(nums):\n",
    "    nums.sort()\n",
    "    n= len(nums)\n",
    "    answer=[]\n",
    "\n",
    "    for i in range(n):\n",
    "        if nums[i]>0: # if first value is positive then all the values ahead will be positive only -> that will sum to positive (no use)\n",
    "            break # so break \n",
    "\n",
    "        elif i>0 and nums[i]==nums[i-1]: # if i is postive and same value further this wil make duplicates\n",
    "            continue # contine loop and increment i\n",
    "\n",
    "        low , high = i+1, n-1 # \n",
    "        while low<high:\n",
    "            sum=nums[i]+nums[low]+nums[high]\n",
    "            if sum ==0:\n",
    "                answer.append([nums[i],nums[low],nums[high]]) # here we got result\n",
    "                low , high = low+1,high-1 # so we will increment low and decrement high\n",
    "                while low<high and nums[low]==nums[low-1]: # as if there are same no in array we dont want to take \n",
    "                    low +=1\n",
    "                while low<high and nums[high]==nums[high+1]: # as if there are same no in array we dont want to take \n",
    "                    high -=1\n",
    "            elif sum <0:\n",
    "                low +=1\n",
    "            else:\n",
    "                high -=1\n",
    "    return answer\n",
    "nums=[-3,-3,-2,-1,0,1,2,2,3]\n",
    "threesum(nums)\n",
    "# TC - O(n^2)\n",
    "# SC - O(n)\n",
    "\n"
   ]
  },
  {
   "cell_type": "markdown",
   "id": "4744c858",
   "metadata": {},
   "source": []
  },
  {
   "cell_type": "markdown",
   "id": "1b0940b4",
   "metadata": {},
   "source": []
  }
 ],
 "metadata": {
  "kernelspec": {
   "display_name": "base",
   "language": "python",
   "name": "python3"
  },
  "language_info": {
   "codemirror_mode": {
    "name": "ipython",
    "version": 3
   },
   "file_extension": ".py",
   "mimetype": "text/x-python",
   "name": "python",
   "nbconvert_exporter": "python",
   "pygments_lexer": "ipython3",
   "version": "3.11.7"
  }
 },
 "nbformat": 4,
 "nbformat_minor": 5
}
