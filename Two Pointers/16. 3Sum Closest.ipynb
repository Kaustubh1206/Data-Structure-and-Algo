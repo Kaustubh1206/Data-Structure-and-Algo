{
 "cells": [
  {
   "cell_type": "markdown",
   "id": "0cb5ea95",
   "metadata": {},
   "source": [
    "## 16. 3Sum Closest\n",
    "### Input: nums = [-1,2,1,-4]\n",
    "### target = 1\n",
    "\n",
    "### Output: 2\n",
    "### Explanation: The sum that is closest to the target is 2. (-1 + 2 + 1 = 2).\n",
    "\n"
   ]
  },
  {
   "cell_type": "code",
   "execution_count": 5,
   "id": "3e82b1f4",
   "metadata": {},
   "outputs": [
    {
     "data": {
      "text/plain": [
       "5"
      ]
     },
     "execution_count": 5,
     "metadata": {},
     "output_type": "execute_result"
    }
   ],
   "source": [
    "def threesumclosest(nums,target):\n",
    "    nums.sort()\n",
    "    closest_sum=float('inf') # currently not known so infinite\n",
    "    n=len(nums) \n",
    "\n",
    "    for i in range(n): # from first index to last\n",
    "        if i > 0 and nums[i]==nums[i-1]: # if i is on any other index except 0th and and same as previous i avoid it to prevent duplicates\n",
    "            continue\n",
    "        low=i+1 # intiaize to i+1\n",
    "        high=n-1 # high to end of array \n",
    "\n",
    "        while low < high:\n",
    "            current_sum=nums[i]+nums[low]+nums[high] # sum of three\n",
    "            if abs(current_sum-target) < abs (closest_sum-target): # calculate distance of current sum from target \n",
    "                # if distance of current is less than closest \n",
    "                closest_sum=current_sum #closest update\n",
    "\n",
    "            if closest_sum==target: # if in case we got the sum equal to target\n",
    "                return closest_sum # return  that sum\n",
    "\n",
    "            elif current_sum<target: # if sum is less that target \n",
    "                low +=1 # low increment \n",
    "\n",
    "            else:\n",
    "                high -=1 # high decrement \n",
    "                \n",
    "    return closest_sum\n",
    "\n",
    "nums=[-3,-3,-2,0,1,2,2,3]\n",
    "target=5\n",
    "threesumclosest(nums,target)\n"
   ]
  },
  {
   "cell_type": "code",
   "execution_count": null,
   "id": "4e5a90e7",
   "metadata": {},
   "outputs": [],
   "source": []
  }
 ],
 "metadata": {
  "kernelspec": {
   "display_name": "base",
   "language": "python",
   "name": "python3"
  },
  "language_info": {
   "codemirror_mode": {
    "name": "ipython",
    "version": 3
   },
   "file_extension": ".py",
   "mimetype": "text/x-python",
   "name": "python",
   "nbconvert_exporter": "python",
   "pygments_lexer": "ipython3",
   "version": "3.11.7"
  }
 },
 "nbformat": 4,
 "nbformat_minor": 5
}
