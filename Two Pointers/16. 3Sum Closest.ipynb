{
 "cells": [
  {
   "cell_type": "markdown",
   "id": "0cb5ea95",
   "metadata": {},
   "source": [
    "## 16. 3Sum Closest\n",
    "### Input: nums = [-1,2,1,-4]\n",
    "### target = 1\n",
    "\n",
    "### Output: 2\n",
    "### Explanation: The sum that is closest to the target is 2. (-1 + 2 + 1 = 2).\n",
    "\n"
   ]
  },
  {
   "cell_type": "code",
   "execution_count": null,
   "id": "3e82b1f4",
   "metadata": {},
   "outputs": [
    {
     "data": {
      "text/plain": [
       "5"
      ]
     },
     "execution_count": 1,
     "metadata": {},
     "output_type": "execute_result"
    }
   ],
   "source": [
    "def threesumclosest(nums,target):\n",
    "    nums.sort()\n",
    "    closest_sum=float('inf')\n",
    "    n=len(nums)\n",
    "\n",
    "    for i in range(n):\n",
    "        if i > 0 and nums[i]==nums[i-1]:\n",
    "            continue\n",
    "        low=i+1\n",
    "        high=n-1\n",
    "\n",
    "        while low < high:\n",
    "            current_sum=nums[i]+nums[low]+nums[high]\n",
    "\n",
    "            if abs(current_sum-target) < abs (closest_sum-target):\n",
    "                closest_sum=current_sum\n",
    "            if closest_sum ==target:\n",
    "                return closest_sum\n",
    "            elif current_sum<target:\n",
    "                low +=1\n",
    "            else:\n",
    "                high -=1\n",
    "    return closest_sum\n",
    "    \n",
    "nums=[-3,-3,-2,0,1,2,2,3]\n",
    "target=5\n",
    "threesumclosest(nums,target)\n"
   ]
  },
  {
   "cell_type": "markdown",
   "id": "e65f00ae",
   "metadata": {},
   "source": []
  }
 ],
 "metadata": {
  "kernelspec": {
   "display_name": "base",
   "language": "python",
   "name": "python3"
  },
  "language_info": {
   "codemirror_mode": {
    "name": "ipython",
    "version": 3
   },
   "file_extension": ".py",
   "mimetype": "text/x-python",
   "name": "python",
   "nbconvert_exporter": "python",
   "pygments_lexer": "ipython3",
   "version": "3.11.7"
  }
 },
 "nbformat": 4,
 "nbformat_minor": 5
}
