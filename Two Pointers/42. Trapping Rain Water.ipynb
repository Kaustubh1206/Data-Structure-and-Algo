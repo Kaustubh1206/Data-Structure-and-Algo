{
 "cells": [
  {
   "cell_type": "markdown",
   "id": "baad0975",
   "metadata": {},
   "source": [
    "# 42. Trapping Rain Water\n",
    "\n",
    "Input: height = [0,1,0,2,1,0,1,3,2,1,2,1]\n",
    "\n",
    "Output: 6\n",
    "\n",
    "Explanation: The above elevation map (black section) is represented by array [0,1,0,2,1,0,1,3,2,1,2,1]. In this case, 6 units of rain water (blue section) are being trapped."
   ]
  },
  {
   "cell_type": "code",
   "execution_count": null,
   "id": "4c80396f",
   "metadata": {},
   "outputs": [
    {
     "data": {
      "text/plain": [
       "6"
      ]
     },
     "execution_count": 1,
     "metadata": {},
     "output_type": "execute_result"
    }
   ],
   "source": [
    "def trapping_water(height):\n",
    "    n=len(height)\n",
    "    l_wall=r_wall=0\n",
    "    max_left=[0]*n\n",
    "    max_right=[0]*n\n",
    "\n",
    "    for i in range (n): # iterate hrought wholen array from left\n",
    "        \n",
    "        #iterate through  right\n",
    "        j = -i -1 # this will iterate whole array from right\n",
    "        \n",
    "\n",
    "        max_left[i]=l_wall #\n",
    "        max_right[j]=r_wall # \n",
    "\n",
    "        l_wall=max(l_wall,height[i])\n",
    "        r_wall=max(r_wall,height[j])\n",
    "\n",
    "        sum=0\n",
    "\n",
    "        for i in range(n):\n",
    "            potential=min(max_left[i],max_right[i])\n",
    "            actual_water_trap= max(0 , potential - height[i])\n",
    "            sum=actual_water_trap\n",
    "\n",
    "    return sum\n",
    "\n",
    "height=[0,1,0,2,1,0,1,3,2,1,2,1]\n",
    "trapping_water(height)\n"
   ]
  },
  {
   "cell_type": "code",
   "execution_count": null,
   "id": "d0a39b3f",
   "metadata": {},
   "outputs": [],
   "source": []
  }
 ],
 "metadata": {
  "kernelspec": {
   "display_name": "base",
   "language": "python",
   "name": "python3"
  },
  "language_info": {
   "codemirror_mode": {
    "name": "ipython",
    "version": 3
   },
   "file_extension": ".py",
   "mimetype": "text/x-python",
   "name": "python",
   "nbconvert_exporter": "python",
   "pygments_lexer": "ipython3",
   "version": "3.11.7"
  }
 },
 "nbformat": 4,
 "nbformat_minor": 5
}
