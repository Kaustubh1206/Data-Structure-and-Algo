{
 "cells": [
  {
   "cell_type": "markdown",
   "id": "baad0975",
   "metadata": {},
   "source": [
    "# 42. Trapping Rain Water\n",
    "\n",
    "Input: height = [0,1,0,2,1,0,1,3,2,1,2,1]\n",
    "\n",
    "Output: 6\n",
    "\n",
    "Explanation: The above elevation map (black section) is represented by array [0,1,0,2,1,0,1,3,2,1,2,1]. In this case, 6 units of rain water (blue section) are being trapped."
   ]
  },
  {
   "cell_type": "code",
   "execution_count": 5,
   "id": "4c80396f",
   "metadata": {},
   "outputs": [
    {
     "data": {
      "text/plain": [
       "20"
      ]
     },
     "execution_count": 5,
     "metadata": {},
     "output_type": "execute_result"
    }
   ],
   "source": [
    "def trapping_water(height):\n",
    "    n=len(height)\n",
    "    l_wall=r_wall=0\n",
    "    max_left=[0]*n\n",
    "    max_right=[0]*n\n",
    "\n",
    "    for i in range (n): # iterate hrought wholen array from left\n",
    "        \n",
    "        #iterate through  right\n",
    "        j = -i -1 # this will iterate whole array from right\n",
    "        \n",
    "\n",
    "        max_left[i]=l_wall #left wall\n",
    "        max_right[j]=r_wall # right wall\n",
    "\n",
    "        l_wall=max(l_wall,height[i]) # update max left wall\n",
    "        r_wall=max(r_wall,height[j]) # update right max wall \n",
    "\n",
    "        sum=0 # intially the sum will be 0\n",
    "\n",
    "        for i in range(n): # iterate from array \n",
    "            potential=min(max_left[i],max_right[i]) # take the min from left and right -> this will be potential capacity to hold \n",
    "            actual_water_trap= max(0 , potential - height[i]) # actual water will be potential - heights -\n",
    "            # if this gives values inn negative max will replace negative by zero\n",
    "\n",
    "            sum +=actual_water_trap # update sum \n",
    "\n",
    "    return sum\n",
    "\n",
    "height=[1,4,3,2,5,6,2,3,4,6,7,8,0,8,1]\n",
    "trapping_water(height)\n"
   ]
  },
  {
   "cell_type": "code",
   "execution_count": null,
   "id": "d0a39b3f",
   "metadata": {},
   "outputs": [],
   "source": []
  },
  {
   "cell_type": "code",
   "execution_count": null,
   "id": "04551961",
   "metadata": {},
   "outputs": [
    {
     "name": "stdout",
     "output_type": "stream",
     "text": [
      "6\n"
     ]
    }
   ],
   "source": [
    "def trapping_water(height):\n",
    "    n = len(height) \n",
    "    left, right = 0, n - 1 # left to 0 index and right to last \n",
    "    left_max = right_max = 0 # let the max side wall be 0 \n",
    "    total = 0 # initially toatl will be zero \n",
    "\n",
    "    while left < right: \n",
    "        if height[left] < height[right]: # the wall with miniumum height will be taken\n",
    "            # Process the left side \n",
    "            if height[left] >= left_max: # check if the left wall is greater than max left \n",
    "                left_max = height[left] # # update max wall \n",
    "            else:   # compute\n",
    "                total += left_max - height[left]     # formula -> left wall max - height of left \n",
    "            left += 1 # left increment \n",
    "        else:\n",
    "            # Process the right side\n",
    "            if height[right] >= right_max: # same for right \n",
    "                right_max = height[right]\n",
    "            else:\n",
    "                total += right_max - height[right]\n",
    "            right -= 1\n",
    "\n",
    "    return total\n",
    "\n",
    "\n",
    "\n",
    "# Example\n",
    "height = [0,1,0,2,1,0,1,3,2,1,2,1]\n",
    "print(trapping_water(height))\n"
   ]
  },
  {
   "cell_type": "code",
   "execution_count": null,
   "id": "3c059697",
   "metadata": {},
   "outputs": [],
   "source": []
  }
 ],
 "metadata": {
  "kernelspec": {
   "display_name": "base",
   "language": "python",
   "name": "python3"
  },
  "language_info": {
   "codemirror_mode": {
    "name": "ipython",
    "version": 3
   },
   "file_extension": ".py",
   "mimetype": "text/x-python",
   "name": "python",
   "nbconvert_exporter": "python",
   "pygments_lexer": "ipython3",
   "version": "3.11.7"
  }
 },
 "nbformat": 4,
 "nbformat_minor": 5
}
