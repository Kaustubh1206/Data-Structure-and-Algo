{
 "cells": [
  {
   "cell_type": "markdown",
   "id": "add7a126",
   "metadata": {},
   "source": [
    "# 392. Is Subsequence\n",
    "Input: s = \"abc\", t = \"ahbgdc\"\n",
    "Output: true"
   ]
  },
  {
   "cell_type": "code",
   "execution_count": 5,
   "id": "7667fa6e",
   "metadata": {},
   "outputs": [
    {
     "data": {
      "text/plain": [
       "True"
      ]
     },
     "execution_count": 5,
     "metadata": {},
     "output_type": "execute_result"
    }
   ],
   "source": [
    "def issubsquence(s,t):\n",
    "    i,j=0,0\n",
    "    while i<len(s) and j<len(t):\n",
    "        if s[i]==t[j]: # both the string char of given index should be same \n",
    "            i+=1 # i increment \n",
    "        j+=1 # j incremnet \n",
    "    return i==len(s) # i = length string s means correctly iterated and mataching subsequence in other string \n",
    "s = \"abc\"\n",
    "t = \"ahbgdc\"\n",
    "issubsquence(s,t)"
   ]
  },
  {
   "cell_type": "code",
   "execution_count": null,
   "id": "d5205cde",
   "metadata": {},
   "outputs": [],
   "source": []
  }
 ],
 "metadata": {
  "kernelspec": {
   "display_name": "base",
   "language": "python",
   "name": "python3"
  },
  "language_info": {
   "codemirror_mode": {
    "name": "ipython",
    "version": 3
   },
   "file_extension": ".py",
   "mimetype": "text/x-python",
   "name": "python",
   "nbconvert_exporter": "python",
   "pygments_lexer": "ipython3",
   "version": "3.11.7"
  }
 },
 "nbformat": 4,
 "nbformat_minor": 5
}
